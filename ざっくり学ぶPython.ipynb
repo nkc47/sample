{
  "nbformat": 4,
  "nbformat_minor": 0,
  "metadata": {
    "colab": {
      "name": "ざっくり学ぶPython",
      "provenance": [],
      "authorship_tag": "ABX9TyN1MnazjqyuTfuWS03rTVy0",
      "include_colab_link": true
    },
    "kernelspec": {
      "name": "python3",
      "display_name": "Python 3"
    },
    "language_info": {
      "name": "python"
    }
  },
  "cells": [
    {
      "cell_type": "markdown",
      "metadata": {
        "id": "view-in-github",
        "colab_type": "text"
      },
      "source": [
        "<a href=\"https://colab.research.google.com/github/nkc47/sample/blob/master/%E3%81%96%E3%81%A3%E3%81%8F%E3%82%8A%E5%AD%A6%E3%81%B6Python.ipynb\" target=\"_parent\"><img src=\"https://colab.research.google.com/assets/colab-badge.svg\" alt=\"Open In Colab\"/></a>"
      ]
    },
    {
      "cell_type": "code",
      "source": [
        "import urllib.request as request\n",
        "import time, os\n",
        "\n",
        "#ダウンロードURL\n",
        "base_url = \"http\""
      ],
      "metadata": {
        "colab": {
          "base_uri": "https://localhost:8080/"
        },
        "id": "zpfVsdKwabmN",
        "outputId": "412eb80f-6f2f-4d0c-df1e-2330bcc89f8e"
      },
      "execution_count": null,
      "outputs": [
        {
          "output_type": "stream",
          "name": "stdout",
          "text": [
            "aaa\n"
          ]
        }
      ]
    },
    {
      "cell_type": "markdown",
      "source": [
        "Colaboratoryコラボレイトリーは停止すると消える  \n",
        "・アイドル９０分  \n",
        "・１２時間連続使用  \n",
        "サイズは２０Ｍ\n"
      ],
      "metadata": {
        "id": "VqIyzQZSaloD"
      }
    },
    {
      "cell_type": "code",
      "source": [
        ""
      ],
      "metadata": {
        "id": "4kUJoLlDd7ZL"
      },
      "execution_count": null,
      "outputs": []
    }
  ]
}